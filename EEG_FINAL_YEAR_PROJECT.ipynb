{
  "cells": [
    {
      "cell_type": "markdown",
      "metadata": {
        "id": "view-in-github"
      },
      "source": [
        "<a href=\"https://colab.research.google.com/github/drahulnayak/EEG-Signal-Classification/blob/main/Copy_of__1_Final_Project_submission_of_Rahul_on_EEG_signal_.ipynb\" target=\"_parent\"><img src=\"https://colab.research.google.com/assets/colab-badge.svg\" alt=\"Open In Colab\"/></a>"
      ]
    },
    {
      "cell_type": "code",
      "execution_count": 19,
      "metadata": {
        "colab": {
          "base_uri": "https://localhost:8080/"
        },
        "id": "Cfesm4oFyk2c",
        "outputId": "d9f156d5-20bd-415e-edf0-583b26bfe413"
      },
      "outputs": [
        {
          "output_type": "stream",
          "name": "stdout",
          "text": [
            "Requirement already satisfied: deap in /usr/local/lib/python3.12/dist-packages (1.4.3)\n",
            "Requirement already satisfied: gdown in /usr/local/lib/python3.12/dist-packages (5.2.0)\n",
            "Requirement already satisfied: lightgbm in /usr/local/lib/python3.12/dist-packages (4.6.0)\n",
            "Requirement already satisfied: xgboost in /usr/local/lib/python3.12/dist-packages (3.0.5)\n",
            "Requirement already satisfied: catboost in /usr/local/lib/python3.12/dist-packages (1.2.8)\n",
            "Requirement already satisfied: imbalanced-learn in /usr/local/lib/python3.12/dist-packages (0.14.0)\n",
            "Requirement already satisfied: numpy in /usr/local/lib/python3.12/dist-packages (from deap) (2.0.2)\n",
            "Requirement already satisfied: beautifulsoup4 in /usr/local/lib/python3.12/dist-packages (from gdown) (4.13.5)\n",
            "Requirement already satisfied: filelock in /usr/local/lib/python3.12/dist-packages (from gdown) (3.20.0)\n",
            "Requirement already satisfied: requests[socks] in /usr/local/lib/python3.12/dist-packages (from gdown) (2.32.4)\n",
            "Requirement already satisfied: tqdm in /usr/local/lib/python3.12/dist-packages (from gdown) (4.67.1)\n",
            "Requirement already satisfied: scipy in /usr/local/lib/python3.12/dist-packages (from lightgbm) (1.16.2)\n",
            "Requirement already satisfied: nvidia-nccl-cu12 in /usr/local/lib/python3.12/dist-packages (from xgboost) (2.27.3)\n",
            "Requirement already satisfied: graphviz in /usr/local/lib/python3.12/dist-packages (from catboost) (0.21)\n",
            "Requirement already satisfied: matplotlib in /usr/local/lib/python3.12/dist-packages (from catboost) (3.10.0)\n",
            "Requirement already satisfied: pandas>=0.24 in /usr/local/lib/python3.12/dist-packages (from catboost) (2.2.2)\n",
            "Requirement already satisfied: plotly in /usr/local/lib/python3.12/dist-packages (from catboost) (5.24.1)\n",
            "Requirement already satisfied: six in /usr/local/lib/python3.12/dist-packages (from catboost) (1.17.0)\n",
            "Requirement already satisfied: scikit-learn<2,>=1.4.2 in /usr/local/lib/python3.12/dist-packages (from imbalanced-learn) (1.6.1)\n",
            "Requirement already satisfied: joblib<2,>=1.2.0 in /usr/local/lib/python3.12/dist-packages (from imbalanced-learn) (1.5.2)\n",
            "Requirement already satisfied: threadpoolctl<4,>=2.0.0 in /usr/local/lib/python3.12/dist-packages (from imbalanced-learn) (3.6.0)\n",
            "Requirement already satisfied: python-dateutil>=2.8.2 in /usr/local/lib/python3.12/dist-packages (from pandas>=0.24->catboost) (2.9.0.post0)\n",
            "Requirement already satisfied: pytz>=2020.1 in /usr/local/lib/python3.12/dist-packages (from pandas>=0.24->catboost) (2025.2)\n",
            "Requirement already satisfied: tzdata>=2022.7 in /usr/local/lib/python3.12/dist-packages (from pandas>=0.24->catboost) (2025.2)\n",
            "Requirement already satisfied: soupsieve>1.2 in /usr/local/lib/python3.12/dist-packages (from beautifulsoup4->gdown) (2.8)\n",
            "Requirement already satisfied: typing-extensions>=4.0.0 in /usr/local/lib/python3.12/dist-packages (from beautifulsoup4->gdown) (4.15.0)\n",
            "Requirement already satisfied: contourpy>=1.0.1 in /usr/local/lib/python3.12/dist-packages (from matplotlib->catboost) (1.3.3)\n",
            "Requirement already satisfied: cycler>=0.10 in /usr/local/lib/python3.12/dist-packages (from matplotlib->catboost) (0.12.1)\n",
            "Requirement already satisfied: fonttools>=4.22.0 in /usr/local/lib/python3.12/dist-packages (from matplotlib->catboost) (4.60.1)\n",
            "Requirement already satisfied: kiwisolver>=1.3.1 in /usr/local/lib/python3.12/dist-packages (from matplotlib->catboost) (1.4.9)\n",
            "Requirement already satisfied: packaging>=20.0 in /usr/local/lib/python3.12/dist-packages (from matplotlib->catboost) (25.0)\n",
            "Requirement already satisfied: pillow>=8 in /usr/local/lib/python3.12/dist-packages (from matplotlib->catboost) (11.3.0)\n",
            "Requirement already satisfied: pyparsing>=2.3.1 in /usr/local/lib/python3.12/dist-packages (from matplotlib->catboost) (3.2.5)\n",
            "Requirement already satisfied: tenacity>=6.2.0 in /usr/local/lib/python3.12/dist-packages (from plotly->catboost) (8.5.0)\n",
            "Requirement already satisfied: charset_normalizer<4,>=2 in /usr/local/lib/python3.12/dist-packages (from requests[socks]->gdown) (3.4.3)\n",
            "Requirement already satisfied: idna<4,>=2.5 in /usr/local/lib/python3.12/dist-packages (from requests[socks]->gdown) (3.10)\n",
            "Requirement already satisfied: urllib3<3,>=1.21.1 in /usr/local/lib/python3.12/dist-packages (from requests[socks]->gdown) (2.5.0)\n",
            "Requirement already satisfied: certifi>=2017.4.17 in /usr/local/lib/python3.12/dist-packages (from requests[socks]->gdown) (2025.10.5)\n",
            "Requirement already satisfied: PySocks!=1.5.7,>=1.5.6 in /usr/local/lib/python3.12/dist-packages (from requests[socks]->gdown) (1.7.1)\n"
          ]
        }
      ],
      "source": [
        "!pip install deap gdown lightgbm xgboost catboost imbalanced-learn\n",
        "\n",
        "#DEAP is a Genetic algorithm"
      ]
    },
    {
      "cell_type": "code",
      "execution_count": 20,
      "metadata": {
        "id": "M_Ncd7Dd1CcM"
      },
      "outputs": [],
      "source": [
        "import numpy as np\n",
        "import matplotlib.pyplot as plt\n",
        "\n",
        "from sklearn.datasets import make_classification\n",
        "from sklearn.neighbors import KNeighborsClassifier\n",
        "from sklearn.linear_model import LogisticRegression\n",
        "from sklearn.ensemble import RandomForestClassifier, BaggingClassifier\n",
        "from lightgbm import LGBMClassifier\n",
        "from xgboost import XGBClassifier\n",
        "from catboost import CatBoostClassifier\n",
        "\n",
        "from sklearn.feature_selection import VarianceThreshold\n",
        "from imblearn.over_sampling import SMOTE\n",
        "from sklearn.decomposition import PCA\n",
        "from sklearn.model_selection import train_test_split\n",
        "from sklearn.metrics import accuracy_score, confusion_matrix, ConfusionMatrixDisplay\n",
        "from concurrent.futures import ThreadPoolExecutor, TimeoutError\n"
      ]
    },
    {
      "cell_type": "code",
      "execution_count": 21,
      "metadata": {
        "id": "o5TL-NS8yyUY"
      },
      "outputs": [],
      "source": [
        "import numpy as np\n",
        "import scipy.io\n",
        "import tensorflow as tf\n",
        "from tensorflow.keras.models import Sequential\n",
        "from tensorflow.keras.layers import Dense, Dropout\n",
        "from tensorflow.keras.optimizers import Adam\n",
        "from sklearn.model_selection import train_test_split\n",
        "from deap import base, creator, tools, algorithms\n",
        "import random"
      ]
    },
    {
      "cell_type": "code",
      "execution_count": 22,
      "metadata": {
        "colab": {
          "base_uri": "https://localhost:8080/"
        },
        "id": "fV8sWIuXy16U",
        "outputId": "47c6f5c0-eaa4-4c5d-ab3e-edf59f5708a8"
      },
      "outputs": [
        {
          "output_type": "stream",
          "name": "stdout",
          "text": [
            "Stacked tensor shape: torch.Size([36, 16, 31000])\n",
            "Number of labels: 36\n"
          ]
        }
      ],
      "source": [
        "import os\n",
        "import torch\n",
        "import pandas as pd\n",
        "import numpy as np\n",
        "import json\n",
        "\n",
        "# Path to CSV files\n",
        "csv_files_directory = '/content/'  # update if needed\n",
        "\n",
        "# Define column names (16 EEG channels, plus extra if your data has more)\n",
        "relevant_columns = ['Fz', 'FC1', 'FC2', 'C3', 'Cz', 'C4',\n",
        "                    'CP5', 'CP1', 'CP2', 'CP6', 'P3', 'Pz',\n",
        "                    'P4', 'O1', 'Oz', 'O2']\n",
        "\n",
        "tensors = []\n",
        "labels = []\n",
        "\n",
        "for file_name in os.listdir(csv_files_directory):\n",
        "    if file_name.endswith('.csv'):\n",
        "        csv_file_path = os.path.join(csv_files_directory, file_name)\n",
        "\n",
        "        # Read CSV and assign column names\n",
        "        df = pd.read_csv(csv_file_path, header=None)  # no header in your CSV\n",
        "        df.columns = relevant_columns + list(range(df.shape[1] - len(relevant_columns)))  # extra columns if any\n",
        "\n",
        "        # For simplicity, assign a dummy label (all \"Innocent\")\n",
        "        label = 'Innocent'\n",
        "\n",
        "        # Extract relevant channels\n",
        "        channel_data = [df[col].values for col in relevant_columns]\n",
        "\n",
        "        # Make all channels the same length\n",
        "        min_length = min([len(ch) for ch in channel_data])\n",
        "        channel_data = [ch[:min_length] for ch in channel_data]\n",
        "\n",
        "        # Stack channels\n",
        "        data_array = np.stack(channel_data, axis=0)\n",
        "\n",
        "        # Convert to torch tensor\n",
        "        tensor_data = torch.tensor(data_array, dtype=torch.float32)\n",
        "        tensors.append(tensor_data)\n",
        "        labels.append(label)\n",
        "\n",
        "# Determine the maximum size for each dimension\n",
        "max_shape = tuple(max(sizes) for sizes in zip(*[t.size() for t in tensors]))\n",
        "\n",
        "# Save max_shape to JSON\n",
        "with open('max_shape.json', 'w') as f:\n",
        "    json.dump(max_shape, f)\n",
        "\n",
        "# Pad tensors\n",
        "padded_tensors = []\n",
        "for t in tensors:\n",
        "    pad_size = [(0, max_dim - cur_dim) for cur_dim, max_dim in zip(t.size(), max_shape)]\n",
        "    pad_size = [item for sublist in pad_size for item in sublist][::-1]\n",
        "    padded_tensors.append(torch.nn.functional.pad(t, pad_size))\n",
        "\n",
        "# Stack tensors\n",
        "stacked_tensor = torch.stack(padded_tensors)\n",
        "\n",
        "print('Stacked tensor shape:', stacked_tensor.shape)\n",
        "print('Number of labels:', len(labels))\n",
        "\n"
      ]
    },
    {
      "cell_type": "code",
      "execution_count": 23,
      "metadata": {
        "colab": {
          "base_uri": "https://localhost:8080/"
        },
        "id": "WBp4nVtWy3r_",
        "outputId": "8662e501-438d-45b4-ac92-e67e899a0d03"
      },
      "outputs": [
        {
          "output_type": "stream",
          "name": "stdout",
          "text": [
            "Classes: ['Innocent']\n"
          ]
        }
      ],
      "source": [
        "from sklearn.preprocessing import LabelEncoder\n",
        "\n",
        "label_encoder = LabelEncoder()\n",
        "labels_encoded = label_encoder.fit_transform(labels)\n",
        "print(\"Classes:\", label_encoder.classes_)\n"
      ]
    },
    {
      "cell_type": "code",
      "execution_count": 24,
      "metadata": {
        "colab": {
          "base_uri": "https://localhost:8080/"
        },
        "id": "0-jklWfdy5jF",
        "outputId": "0192515a-39b6-43aa-dd03-7fe1d0cb2206"
      },
      "outputs": [
        {
          "output_type": "stream",
          "name": "stdout",
          "text": [
            "Batch 1: 1083 samples\n",
            "Batch 2: 616 samples\n",
            "Batch 3: 1301 samples\n"
          ]
        }
      ],
      "source": [
        "\n",
        "################################################################################\n",
        "# Step 2: Simulate Dataset\n",
        "################################################################################\n",
        "# You can replace this with your own X, y\n",
        "from sklearn.preprocessing import StandardScaler\n",
        "from sklearn.cluster import KMeans\n",
        "\n",
        "\n",
        "X, y = make_classification(\n",
        "    n_samples=3000,\n",
        "    n_features=2000,\n",
        "    n_informative=50,\n",
        "    n_redundant=0,\n",
        "    n_classes=2,\n",
        "    weights=[0.7,0.3],\n",
        "    flip_y=0.01,\n",
        "    random_state=42\n",
        ")\n",
        "\n",
        "# Standardize for KMeans clustering\n",
        "scaler = StandardScaler()\n",
        "X_scaled = scaler.fit_transform(X)\n",
        "\n",
        "# KMeans clustering into 3 batches\n",
        "kmeans = KMeans(n_clusters=3, random_state=42)\n",
        "clusters = kmeans.fit_predict(X_scaled)\n",
        "\n",
        "# Split dataset into 3 batches\n",
        "datasets = []\n",
        "for cluster_id in range(3):\n",
        "    idx = np.where(clusters == cluster_id)[0]\n",
        "    X_cluster = X[idx]\n",
        "    y_cluster = y[idx]\n",
        "    datasets.append((X_cluster, y_cluster))\n",
        "    print(f\"Batch {cluster_id+1}: {X_cluster.shape[0]} samples\")"
      ]
    },
    {
      "cell_type": "code",
      "execution_count": 25,
      "metadata": {
        "colab": {
          "base_uri": "https://localhost:8080/"
        },
        "id": "UpNG7lui14Kc",
        "outputId": "27a7893f-c6e9-4522-bbaa-e59f4bfd58ae"
      },
      "outputs": [
        {
          "output_type": "stream",
          "name": "stdout",
          "text": [
            "Requirement already satisfied: catboost in /usr/local/lib/python3.12/dist-packages (1.2.8)\n",
            "Requirement already satisfied: graphviz in /usr/local/lib/python3.12/dist-packages (from catboost) (0.21)\n",
            "Requirement already satisfied: matplotlib in /usr/local/lib/python3.12/dist-packages (from catboost) (3.10.0)\n",
            "Requirement already satisfied: numpy<3.0,>=1.16.0 in /usr/local/lib/python3.12/dist-packages (from catboost) (2.0.2)\n",
            "Requirement already satisfied: pandas>=0.24 in /usr/local/lib/python3.12/dist-packages (from catboost) (2.2.2)\n",
            "Requirement already satisfied: scipy in /usr/local/lib/python3.12/dist-packages (from catboost) (1.16.2)\n",
            "Requirement already satisfied: plotly in /usr/local/lib/python3.12/dist-packages (from catboost) (5.24.1)\n",
            "Requirement already satisfied: six in /usr/local/lib/python3.12/dist-packages (from catboost) (1.17.0)\n",
            "Requirement already satisfied: python-dateutil>=2.8.2 in /usr/local/lib/python3.12/dist-packages (from pandas>=0.24->catboost) (2.9.0.post0)\n",
            "Requirement already satisfied: pytz>=2020.1 in /usr/local/lib/python3.12/dist-packages (from pandas>=0.24->catboost) (2025.2)\n",
            "Requirement already satisfied: tzdata>=2022.7 in /usr/local/lib/python3.12/dist-packages (from pandas>=0.24->catboost) (2025.2)\n",
            "Requirement already satisfied: contourpy>=1.0.1 in /usr/local/lib/python3.12/dist-packages (from matplotlib->catboost) (1.3.3)\n",
            "Requirement already satisfied: cycler>=0.10 in /usr/local/lib/python3.12/dist-packages (from matplotlib->catboost) (0.12.1)\n",
            "Requirement already satisfied: fonttools>=4.22.0 in /usr/local/lib/python3.12/dist-packages (from matplotlib->catboost) (4.60.1)\n",
            "Requirement already satisfied: kiwisolver>=1.3.1 in /usr/local/lib/python3.12/dist-packages (from matplotlib->catboost) (1.4.9)\n",
            "Requirement already satisfied: packaging>=20.0 in /usr/local/lib/python3.12/dist-packages (from matplotlib->catboost) (25.0)\n",
            "Requirement already satisfied: pillow>=8 in /usr/local/lib/python3.12/dist-packages (from matplotlib->catboost) (11.3.0)\n",
            "Requirement already satisfied: pyparsing>=2.3.1 in /usr/local/lib/python3.12/dist-packages (from matplotlib->catboost) (3.2.5)\n",
            "Requirement already satisfied: tenacity>=6.2.0 in /usr/local/lib/python3.12/dist-packages (from plotly->catboost) (8.5.0)\n",
            "Requirement already satisfied: dask[dataframe] in /usr/local/lib/python3.12/dist-packages (2025.5.0)\n",
            "Requirement already satisfied: click>=8.1 in /usr/local/lib/python3.12/dist-packages (from dask[dataframe]) (8.3.0)\n",
            "Requirement already satisfied: cloudpickle>=3.0.0 in /usr/local/lib/python3.12/dist-packages (from dask[dataframe]) (3.1.1)\n",
            "Requirement already satisfied: fsspec>=2021.09.0 in /usr/local/lib/python3.12/dist-packages (from dask[dataframe]) (2025.3.0)\n",
            "Requirement already satisfied: packaging>=20.0 in /usr/local/lib/python3.12/dist-packages (from dask[dataframe]) (25.0)\n",
            "Requirement already satisfied: partd>=1.4.0 in /usr/local/lib/python3.12/dist-packages (from dask[dataframe]) (1.4.2)\n",
            "Requirement already satisfied: pyyaml>=5.3.1 in /usr/local/lib/python3.12/dist-packages (from dask[dataframe]) (6.0.3)\n",
            "Requirement already satisfied: toolz>=0.10.0 in /usr/local/lib/python3.12/dist-packages (from dask[dataframe]) (0.12.1)\n",
            "Requirement already satisfied: pandas>=2.0 in /usr/local/lib/python3.12/dist-packages (from dask[dataframe]) (2.2.2)\n",
            "Requirement already satisfied: pyarrow>=14.0.1 in /usr/local/lib/python3.12/dist-packages (from dask[dataframe]) (18.1.0)\n",
            "Requirement already satisfied: numpy>=1.26.0 in /usr/local/lib/python3.12/dist-packages (from pandas>=2.0->dask[dataframe]) (2.0.2)\n",
            "Requirement already satisfied: python-dateutil>=2.8.2 in /usr/local/lib/python3.12/dist-packages (from pandas>=2.0->dask[dataframe]) (2.9.0.post0)\n",
            "Requirement already satisfied: pytz>=2020.1 in /usr/local/lib/python3.12/dist-packages (from pandas>=2.0->dask[dataframe]) (2025.2)\n",
            "Requirement already satisfied: tzdata>=2022.7 in /usr/local/lib/python3.12/dist-packages (from pandas>=2.0->dask[dataframe]) (2025.2)\n",
            "Requirement already satisfied: locket in /usr/local/lib/python3.12/dist-packages (from partd>=1.4.0->dask[dataframe]) (1.0.0)\n",
            "Requirement already satisfied: six>=1.5 in /usr/local/lib/python3.12/dist-packages (from python-dateutil>=2.8.2->pandas>=2.0->dask[dataframe]) (1.17.0)\n"
          ]
        }
      ],
      "source": [
        "!pip install catboost\n",
        "!pip install \"dask[dataframe]\"\n"
      ]
    },
    {
      "cell_type": "code",
      "execution_count": 26,
      "metadata": {
        "id": "PkPFGe7Qy8f1"
      },
      "outputs": [],
      "source": [
        "\n",
        "################################################################################\n",
        "# Step 3: Define Classifiers\n",
        "################################################################################\n",
        "base_classifiers = {\n",
        "    \"KNN\": KNeighborsClassifier(n_neighbors=5),\n",
        "    \"LogReg\": LogisticRegression(max_iter=1000),\n",
        "    \"RandomForest\": RandomForestClassifier(n_estimators=200, max_depth=6),\n",
        "    \"LightGBM\": LGBMClassifier(\n",
        "        n_estimators=200,\n",
        "        max_depth=6,\n",
        "        min_data_in_leaf=10,\n",
        "        learning_rate=0.1,\n",
        "        boosting_type=\"gbdt\",\n",
        "        verbose=-1\n",
        "    ),\n",
        "    \"XGBoost\": XGBClassifier(\n",
        "        n_estimators=200,\n",
        "        max_depth=6,\n",
        "        learning_rate=0.1,\n",
        "        verbosity=0,\n",
        "        use_label_encoder=False,\n",
        "        eval_metric=\"logloss\"\n",
        "    ),\n",
        "    \"CatBoost\": CatBoostClassifier(\n",
        "        iterations=200,\n",
        "        depth=6,\n",
        "        learning_rate=0.1,\n",
        "        verbose=0\n",
        "    )\n",
        "}"
      ]
    },
    {
      "cell_type": "markdown",
      "metadata": {
        "id": "yzb7_tLsrMQ4"
      },
      "source": [
        "# New Section"
      ]
    },
    {
      "cell_type": "markdown",
      "metadata": {
        "id": "7cjHdbqnrMYM"
      },
      "source": [
        "# New Section"
      ]
    },
    {
      "cell_type": "markdown",
      "metadata": {
        "id": "5cjGdjHqzBHc"
      },
      "source": []
    },
    {
      "cell_type": "code",
      "source": [
        "################################################################################\n",
        "# Step 4: Faster Train and Evaluate per Batch\n",
        "################################################################################\n",
        "import warnings\n",
        "\n",
        "# Suppress deprecation warnings\n",
        "warnings.filterwarnings(\"ignore\", category=FutureWarning)\n",
        "\n",
        "variance_selector = VarianceThreshold(threshold=0.01)\n",
        "top_models_per_batch = []\n",
        "all_accuracies = {}\n",
        "\n",
        "def safe_fit(clf, X, y, timeout=60):\n",
        "    def train():\n",
        "        clf.fit(X, y)\n",
        "        return clf\n",
        "    with ThreadPoolExecutor(max_workers=1) as executor:\n",
        "        future = executor.submit(train)\n",
        "        try:\n",
        "            return future.result(timeout=timeout)\n",
        "        except TimeoutError:\n",
        "            raise TimeoutError(\"Training exceeded timeout and was stopped.\")\n",
        "\n",
        "for batch_idx, (X_batch, y_batch) in enumerate(datasets):\n",
        "    print(f\"\\n=== Batch {batch_idx+1} ===\")\n",
        "\n",
        "    X_train, X_test, y_train, y_test = train_test_split(\n",
        "        X_batch, y_batch, test_size=0.2, stratify=y_batch, random_state=42\n",
        "    )\n",
        "\n",
        "    # Variance threshold\n",
        "    X_train = variance_selector.fit_transform(X_train)\n",
        "    X_test = variance_selector.transform(X_test)\n",
        "\n",
        "    # PCA with capped components\n",
        "    n_components = min(300, X_train.shape[0], X_train.shape[1])\n",
        "    print(f\"PCA reducing to {n_components} features...\")\n",
        "    pca = PCA(n_components=n_components)\n",
        "    X_train = pca.fit_transform(X_train)\n",
        "    X_test = pca.transform(X_test)\n",
        "\n",
        "    # SMOTE with default strategy\n",
        "    smote = SMOTE(sampling_strategy=\"auto\", random_state=42)\n",
        "    X_train, y_train = smote.fit_resample(X_train, y_train)\n",
        "\n",
        "    batch_models = []\n",
        "    for name, clf in base_classifiers.items():\n",
        "        # Remove KNN from Bagging for speed\n",
        "        if name == \"KNN\":\n",
        "            bag = clf\n",
        "        else:\n",
        "            bag = BaggingClassifier(clf, n_estimators=3, max_samples=0.8, random_state=42)\n",
        "        try:\n",
        "            safe_fit(bag, X_train, y_train, timeout=60)\n",
        "            train_acc = bag.score(X_train, y_train)\n",
        "            test_acc = bag.score(X_test, y_test)\n",
        "            print(f\"{name}: Train {train_acc:.3f}, Test {test_acc:.3f}\")\n",
        "            all_accuracies[f\"Batch{batch_idx+1}_{name}\"] = (train_acc, test_acc)\n",
        "            batch_models.append((name, bag, test_acc))\n",
        "        except Exception as e:\n",
        "            print(f\"Skipping {name} due to error: {e}\")\n",
        "\n",
        "    # Select top N\n",
        "    N = 3 if batch_idx == 0 else 2\n",
        "    top = sorted(batch_models, key=lambda x: x[2], reverse=True)[:N]\n",
        "    top_models_per_batch.append(top)\n"
      ],
      "metadata": {
        "colab": {
          "base_uri": "https://localhost:8080/"
        },
        "id": "H9-EJVR9QOeP",
        "outputId": "1f587c37-dd05-4840-c2ca-c2920b4fef33"
      },
      "execution_count": 18,
      "outputs": [
        {
          "output_type": "stream",
          "name": "stdout",
          "text": [
            "\n",
            "=== Batch 1 ===\n",
            "PCA reducing to 300 features...\n",
            "KNN: Train 0.511, Test 0.304\n",
            "LogReg: Train 0.950, Test 0.820\n",
            "RandomForest: Train 0.984, Test 0.599\n"
          ]
        },
        {
          "output_type": "stream",
          "name": "stderr",
          "text": [
            "/usr/local/lib/python3.12/dist-packages/sklearn/utils/validation.py:2739: UserWarning: X does not have valid feature names, but LGBMClassifier was fitted with feature names\n",
            "  warnings.warn(\n",
            "/usr/local/lib/python3.12/dist-packages/sklearn/utils/validation.py:2739: UserWarning: X does not have valid feature names, but LGBMClassifier was fitted with feature names\n",
            "  warnings.warn(\n",
            "/usr/local/lib/python3.12/dist-packages/sklearn/utils/validation.py:2739: UserWarning: X does not have valid feature names, but LGBMClassifier was fitted with feature names\n",
            "  warnings.warn(\n",
            "/usr/local/lib/python3.12/dist-packages/sklearn/utils/validation.py:2739: UserWarning: X does not have valid feature names, but LGBMClassifier was fitted with feature names\n",
            "  warnings.warn(\n",
            "/usr/local/lib/python3.12/dist-packages/sklearn/utils/validation.py:2739: UserWarning: X does not have valid feature names, but LGBMClassifier was fitted with feature names\n",
            "  warnings.warn(\n",
            "/usr/local/lib/python3.12/dist-packages/sklearn/utils/validation.py:2739: UserWarning: X does not have valid feature names, but LGBMClassifier was fitted with feature names\n",
            "  warnings.warn(\n"
          ]
        },
        {
          "output_type": "stream",
          "name": "stdout",
          "text": [
            "LightGBM: Train 0.969, Test 0.806\n",
            "XGBoost: Train 0.976, Test 0.829\n",
            "CatBoost: Train 0.977, Test 0.728\n",
            "\n",
            "=== Batch 2 ===\n",
            "PCA reducing to 300 features...\n",
            "KNN: Train 0.500, Test 0.323\n",
            "LogReg: Train 0.949, Test 0.815\n",
            "RandomForest: Train 0.979, Test 0.492\n"
          ]
        },
        {
          "output_type": "stream",
          "name": "stderr",
          "text": [
            "/usr/local/lib/python3.12/dist-packages/sklearn/utils/validation.py:2739: UserWarning: X does not have valid feature names, but LGBMClassifier was fitted with feature names\n",
            "  warnings.warn(\n",
            "/usr/local/lib/python3.12/dist-packages/sklearn/utils/validation.py:2739: UserWarning: X does not have valid feature names, but LGBMClassifier was fitted with feature names\n",
            "  warnings.warn(\n",
            "/usr/local/lib/python3.12/dist-packages/sklearn/utils/validation.py:2739: UserWarning: X does not have valid feature names, but LGBMClassifier was fitted with feature names\n",
            "  warnings.warn(\n",
            "/usr/local/lib/python3.12/dist-packages/sklearn/utils/validation.py:2739: UserWarning: X does not have valid feature names, but LGBMClassifier was fitted with feature names\n",
            "  warnings.warn(\n",
            "/usr/local/lib/python3.12/dist-packages/sklearn/utils/validation.py:2739: UserWarning: X does not have valid feature names, but LGBMClassifier was fitted with feature names\n",
            "  warnings.warn(\n",
            "/usr/local/lib/python3.12/dist-packages/sklearn/utils/validation.py:2739: UserWarning: X does not have valid feature names, but LGBMClassifier was fitted with feature names\n",
            "  warnings.warn(\n"
          ]
        },
        {
          "output_type": "stream",
          "name": "stdout",
          "text": [
            "LightGBM: Train 0.959, Test 0.718\n",
            "XGBoost: Train 0.956, Test 0.710\n",
            "CatBoost: Train 0.968, Test 0.637\n",
            "\n",
            "=== Batch 3 ===\n",
            "PCA reducing to 300 features...\n",
            "KNN: Train 0.523, Test 0.295\n",
            "LogReg: Train 0.949, Test 0.793\n",
            "RandomForest: Train 0.991, Test 0.705\n"
          ]
        },
        {
          "output_type": "stream",
          "name": "stderr",
          "text": [
            "/usr/local/lib/python3.12/dist-packages/sklearn/utils/validation.py:2739: UserWarning: X does not have valid feature names, but LGBMClassifier was fitted with feature names\n",
            "  warnings.warn(\n",
            "/usr/local/lib/python3.12/dist-packages/sklearn/utils/validation.py:2739: UserWarning: X does not have valid feature names, but LGBMClassifier was fitted with feature names\n",
            "  warnings.warn(\n",
            "/usr/local/lib/python3.12/dist-packages/sklearn/utils/validation.py:2739: UserWarning: X does not have valid feature names, but LGBMClassifier was fitted with feature names\n",
            "  warnings.warn(\n",
            "/usr/local/lib/python3.12/dist-packages/sklearn/utils/validation.py:2739: UserWarning: X does not have valid feature names, but LGBMClassifier was fitted with feature names\n",
            "  warnings.warn(\n",
            "/usr/local/lib/python3.12/dist-packages/sklearn/utils/validation.py:2739: UserWarning: X does not have valid feature names, but LGBMClassifier was fitted with feature names\n",
            "  warnings.warn(\n",
            "/usr/local/lib/python3.12/dist-packages/sklearn/utils/validation.py:2739: UserWarning: X does not have valid feature names, but LGBMClassifier was fitted with feature names\n",
            "  warnings.warn(\n"
          ]
        },
        {
          "output_type": "stream",
          "name": "stdout",
          "text": [
            "LightGBM: Train 0.984, Test 0.854\n",
            "XGBoost: Train 0.987, Test 0.881\n",
            "CatBoost: Train 0.983, Test 0.762\n"
          ]
        }
      ]
    },
    {
      "cell_type": "code",
      "execution_count": 27,
      "metadata": {
        "id": "GFNqUMcZzCIM",
        "colab": {
          "base_uri": "https://localhost:8080/",
          "height": 517
        },
        "outputId": "e72e3a53-2ef2-4b1b-a619-d455867f4f66"
      },
      "outputs": [
        {
          "output_type": "display_data",
          "data": {
            "text/plain": [
              "<Figure size 1200x600 with 1 Axes>"
            ],
            "image/png": "[encoded data removed]"
          },
          "metadata": {}
        }
      ],
      "source": [
        "\n",
        "################################################################################\n",
        "# Step 5: Accuracy Graphs\n",
        "################################################################################\n",
        "plt.figure(figsize=(12,6))\n",
        "x = np.arange(len(all_accuracies))\n",
        "train_scores = [v[0] for v in all_accuracies.values()]\n",
        "test_scores = [v[1] for v in all_accuracies.values()]\n",
        "labels = list(all_accuracies.keys())\n",
        "\n",
        "plt.bar(x-0.2, train_scores, width=0.4, label=\"Train\")\n",
        "plt.bar(x+0.2, test_scores, width=0.4, label=\"Test\")\n",
        "plt.xticks(x, labels, rotation=90)\n",
        "plt.title(\"Accuracy per Model per Batch\")\n",
        "plt.ylim(0,1)\n",
        "plt.legend()\n",
        "plt.tight_layout()\n",
        "plt.show()"
      ]
    },
    {
      "cell_type": "code",
      "execution_count": 28,
      "metadata": {
        "id": "xbZrQwgTzGkp",
        "colab": {
          "base_uri": "https://localhost:8080/"
        },
        "outputId": "c526c7af-d5cb-423d-9ff7-266098b89b84"
      },
      "outputs": [
        {
          "output_type": "stream",
          "name": "stdout",
          "text": [
            "\n",
            "=== Layer 1 ===\n",
            "Votes: [0 3 2 1 3 3 1 0 3 3 3 0 2 1 0 0 3 1 1 0 3 1 3 1 0 3 0 1 3 1 1 3 0 3 3 2 1\n",
            " 0 0 1 0 0 0 2 3 2 3 0 0 0 0 1 0 0 3 0 0 0 0 2 1 0 0 3 2 0 1 1 1 0 2 0 0 2\n",
            " 2 2 0 2 3 0 0 3 3 3 2 3 3 0 3 0 0 1 3 0 2 0 0 3 1 0 3 3 3 2 0 1 0 3 3 3 2\n",
            " 0 2 1 0 3 3 2 1 0 0 2 1 0 3 0 1 3 0 3 3 3 3 3 0 0 2 0 0 0 2 0 0 3 0 0 3 0\n",
            " 1 3 0 0 3 2 3 0 0 3 3 0 0 1 0 0 0 0 0 0 0 0 0 1 3 1 3 0 0 3 2 0 2 3 0 0 0\n",
            " 3 0 0 3 0 2 3 1 3 0 1 2 3 0 0 3 0 0 3 2 2 0 0 2 0 3 0 0 1 2 2 1]\n",
            "Predictions: [0 1 1 0 1 1 0 0 1 1 1 0 1 0 0 0 1 0 0 0 1 0 1 0 0 1 0 0 1 0 0 1 0 1 1 1 0\n",
            " 0 0 0 0 0 0 1 1 1 1 0 0 0 0 0 0 0 1 0 0 0 0 1 0 0 0 1 1 0 0 0 0 0 1 0 0 1\n",
            " 1 1 0 1 1 0 0 1 1 1 1 1 1 0 1 0 0 0 1 0 1 0 0 1 0 0 1 1 1 1 0 0 0 1 1 1 1\n",
            " 0 1 0 0 1 1 1 0 0 0 1 0 0 1 0 0 1 0 1 1 1 1 1 0 0 1 0 0 0 1 0 0 1 0 0 1 0\n",
            " 0 1 0 0 1 1 1 0 0 1 1 0 0 0 0 0 0 0 0 0 0 0 0 0 1 0 1 0 0 1 1 0 1 1 0 0 0\n",
            " 1 0 0 1 0 1 1 0 1 0 0 1 1 0 0 1 0 0 1 1 1 0 0 1 0 1 0 0 0 1 1 0]\n",
            "Indices passed to Layer 2: [  1   2   4   5   8   9  10  12  16  20  22  25  28  31  33  34  35  43\n",
            "  44  45  46  54  59  63  64  70  73  74  75  77  78  81  82  83  84  85\n",
            "  86  88  92  94  97 100 101 102 103 107 108 109 110 112 115 116 117 121\n",
            " 124 127 129 130 131 132 133 136 140 143 146 149 152 153 154 157 158 172\n",
            " 174 177 178 180 181 185 188 190 191 193 196 197 200 203 204 205 208 210\n",
            " 214 215]\n",
            "Remaining samples: 92\n",
            "\n",
            "=== Layer 2 ===\n",
            "Votes: [0 1 1 1 2 1 2 0 1 2 1 1 0 2 2 2 0 0 1 1 1 2 1 0 1 1 0 1 0 2 0 1 1 1 2 1 2\n",
            " 1 2 2 0 0 2 2 2 0 1 0 0 0 2 2 0 1 0 0 0 1 0 1 2 2 0 0 0 2 0 2 2 2 0 2 1 1\n",
            " 0 1 0 1 1 1 2 1 0 0 1 2 2 0 2 2 1 1]\n",
            "Predictions: [0 0 0 0 1 0 1 0 0 1 0 0 0 1 1 1 0 0 0 0 0 1 0 0 0 0 0 0 0 1 0 0 0 0 1 0 1\n",
            " 0 1 1 0 0 1 1 1 0 0 0 0 0 1 1 0 0 0 0 0 0 0 0 1 1 0 0 0 1 0 1 1 1 0 1 0 0\n",
            " 0 0 0 0 0 0 1 0 0 0 0 1 1 0 1 1 0 0]\n",
            "Indices passed to Layer 3: [ 4  6  9 13 14 15 21 29 34 36 38 39 42 43 44 50 51 60 61 65 67 68 69 71\n",
            " 80 85 86 88 89]\n",
            "Remaining samples: 29\n",
            "\n",
            "=== Layer 3 ===\n",
            "Votes: [0 0 2 0 2 0 0 2 2 0 0 2 0 0 2 0 0 2 0 0 2 2 0 2 0 0 2 0 0]\n",
            "Predictions: [0 0 1 0 1 0 0 1 1 0 0 1 0 0 1 0 0 1 0 0 1 1 0 1 0 0 1 0 0]\n",
            "Final selected indices: [ 2  4  7  8 11 14 17 20 21 23 26]\n",
            "Remaining samples in final: 11\n",
            "\n",
            "✅ Final Layered Accuracy: 0.8966\n"
          ]
        },
        {
          "output_type": "stream",
          "name": "stderr",
          "text": [
            "/usr/local/lib/python3.12/dist-packages/sklearn/utils/validation.py:2739: UserWarning: X does not have valid feature names, but LGBMClassifier was fitted with feature names\n",
            "  warnings.warn(\n",
            "/usr/local/lib/python3.12/dist-packages/sklearn/utils/validation.py:2739: UserWarning: X does not have valid feature names, but LGBMClassifier was fitted with feature names\n",
            "  warnings.warn(\n",
            "/usr/local/lib/python3.12/dist-packages/sklearn/utils/validation.py:2739: UserWarning: X does not have valid feature names, but LGBMClassifier was fitted with feature names\n",
            "  warnings.warn(\n",
            "/usr/local/lib/python3.12/dist-packages/sklearn/utils/validation.py:2739: UserWarning: X does not have valid feature names, but LGBMClassifier was fitted with feature names\n",
            "  warnings.warn(\n",
            "/usr/local/lib/python3.12/dist-packages/sklearn/utils/validation.py:2739: UserWarning: X does not have valid feature names, but LGBMClassifier was fitted with feature names\n",
            "  warnings.warn(\n",
            "/usr/local/lib/python3.12/dist-packages/sklearn/utils/validation.py:2739: UserWarning: X does not have valid feature names, but LGBMClassifier was fitted with feature names\n",
            "  warnings.warn(\n",
            "/usr/local/lib/python3.12/dist-packages/sklearn/utils/validation.py:2739: UserWarning: X does not have valid feature names, but LGBMClassifier was fitted with feature names\n",
            "  warnings.warn(\n",
            "/usr/local/lib/python3.12/dist-packages/sklearn/utils/validation.py:2739: UserWarning: X does not have valid feature names, but LGBMClassifier was fitted with feature names\n",
            "  warnings.warn(\n",
            "/usr/local/lib/python3.12/dist-packages/sklearn/utils/validation.py:2739: UserWarning: X does not have valid feature names, but LGBMClassifier was fitted with feature names\n",
            "  warnings.warn(\n"
          ]
        }
      ],
      "source": [
        "\n",
        "################################################################################\n",
        "# Step 8: Layered Voting Pipeline with Outputs per Layer\n",
        "################################################################################\n",
        "from sklearn.metrics import confusion_matrix, ConfusionMatrixDisplay\n",
        "\n",
        "# Split again, stratified\n",
        "X_train_layer, X_layer, y_train_layer, y_layer = train_test_split(\n",
        "    datasets[0][0], datasets[0][1], test_size=0.2, random_state=42, stratify=datasets[0][1]\n",
        ")\n",
        "\n",
        "X_layer = variance_selector.transform(X_layer)\n",
        "if X_layer.shape[1] > 1500:\n",
        "    X_layer = pca.transform(X_layer)\n",
        "\n",
        "def majority_vote(models, X, threshold=\"majority\"):\n",
        "\n",
        "    preds = [m.predict(X) for _, m, _ in models]\n",
        "    votes = np.sum(preds, axis=0)\n",
        "    if threshold == \"soft\":\n",
        "        binary_preds = (votes >= 1).astype(int)\n",
        "    else:\n",
        "        binary_preds = (votes > len(models)/2).astype(int)\n",
        "    return binary_preds, votes\n",
        "\n",
        "# Layer 1\n",
        "preds1, votes1 = majority_vote(top_models_per_batch[0], X_layer)\n",
        "layer1_indices = np.where(preds1 == 1)[0]\n",
        "\n",
        "print(\"\\n=== Layer 1 ===\")\n",
        "print(f\"Votes: {votes1}\")\n",
        "print(f\"Predictions: {preds1}\")\n",
        "print(f\"Indices passed to Layer 2: {layer1_indices}\")\n",
        "print(f\"Remaining samples: {len(layer1_indices)}\")\n",
        "\n",
        "X_layer = X_layer[layer1_indices]\n",
        "y_layer = y_layer[layer1_indices]\n",
        "\n",
        "# Layer 2\n",
        "preds2, votes2 = majority_vote(top_models_per_batch[1], X_layer)\n",
        "layer2_indices = np.where(preds2 == 1)[0]\n",
        "\n",
        "print(\"\\n=== Layer 2 ===\")\n",
        "print(f\"Votes: {votes2}\")\n",
        "print(f\"Predictions: {preds2}\")\n",
        "print(f\"Indices passed to Layer 3: {layer2_indices}\")\n",
        "print(f\"Remaining samples: {len(layer2_indices)}\")\n",
        "#layer 3\n",
        "X_layer = X_layer[layer2_indices]\n",
        "y_layer = y_layer[layer2_indices]\n",
        "if len(X_layer) > 0:\n",
        "    preds3, votes3 = majority_vote(top_models_per_batch[2], X_layer)\n",
        "    final_indices = np.where(preds3 == 1)[0]\n",
        "\n",
        "    print(\"\\n=== Layer 3 ===\")\n",
        "    print(f\"Votes: {votes3}\")\n",
        "    print(f\"Predictions: {preds3}\")\n",
        "    print(f\"Final selected indices: {final_indices}\")\n",
        "    print(f\"Remaining samples in final: {len(final_indices)}\")\n",
        "\n",
        "    final_pred = np.zeros(len(y_layer))\n",
        "    final_pred[final_indices] = 1\n",
        "    acc = accuracy_score(y_layer, final_pred)\n",
        "    print(f\"\\n✅ Final Layered Accuracy: {acc:.4f}\")\n",
        "else:\n",
        "    print(\"\\n⛔ No samples left to process in Layer 3.\")"
      ]
    },
    {
      "cell_type": "code",
      "execution_count": 29,
      "metadata": {
        "id": "wxyDi17Ixz0k",
        "colab": {
          "base_uri": "https://localhost:8080/",
          "height": 507
        },
        "outputId": "253bf364-5fb2-4ced-b06f-7598ec657e68"
      },
      "outputs": [
        {
          "output_type": "display_data",
          "data": {
            "text/plain": [
              "<Figure size 400x500 with 1 Axes>"
            ],
            "image/png": "[encoded data removed]"
          },
          "metadata": {}
        }
      ],
      "source": [
        "import matplotlib.pyplot as plt\n",
        "\n",
        "final_layered_accuracy = acc # Replace with your value\n",
        "\n",
        "plt.figure(figsize=(4,5))\n",
        "bar = plt.bar(['Final Layered Ensemble'], [final_layered_accuracy], color='lightgreen')\n",
        "plt.ylim(0, 1)\n",
        "plt.ylabel('Accuracy')\n",
        "plt.title('Final Layered Ensemble Accuracy')\n",
        "\n",
        "plt.text(bar[0].get_x() + bar[0].get_width()/2, final_layered_accuracy + 0.02, f'{final_layered_accuracy:.3f}', ha='center', fontsize=12)\n",
        "\n",
        "plt.tight_layout()\n",
        "plt.show()\n"
      ]
    },
    {
      "cell_type": "code",
      "source": [
        "!pip install scikit-learn matplotlib seaborn\n"
      ],
      "metadata": {
        "colab": {
          "base_uri": "https://localhost:8080/"
        },
        "id": "A2sm2D0ynCg2",
        "outputId": "338ccff9-468b-4110-ca80-7536d26bca85"
      },
      "execution_count": 32,
      "outputs": [
        {
          "output_type": "stream",
          "name": "stdout",
          "text": [
            "Requirement already satisfied: scikit-learn in /usr/local/lib/python3.12/dist-packages (1.6.1)\n",
            "Requirement already satisfied: matplotlib in /usr/local/lib/python3.12/dist-packages (3.10.0)\n",
            "Requirement already satisfied: seaborn in /usr/local/lib/python3.12/dist-packages (0.13.2)\n",
            "Requirement already satisfied: numpy>=1.19.5 in /usr/local/lib/python3.12/dist-packages (from scikit-learn) (2.0.2)\n",
            "Requirement already satisfied: scipy>=1.6.0 in /usr/local/lib/python3.12/dist-packages (from scikit-learn) (1.16.2)\n",
            "Requirement already satisfied: joblib>=1.2.0 in /usr/local/lib/python3.12/dist-packages (from scikit-learn) (1.5.2)\n",
            "Requirement already satisfied: threadpoolctl>=3.1.0 in /usr/local/lib/python3.12/dist-packages (from scikit-learn) (3.6.0)\n",
            "Requirement already satisfied: contourpy>=1.0.1 in /usr/local/lib/python3.12/dist-packages (from matplotlib) (1.3.3)\n",
            "Requirement already satisfied: cycler>=0.10 in /usr/local/lib/python3.12/dist-packages (from matplotlib) (0.12.1)\n",
            "Requirement already satisfied: fonttools>=4.22.0 in /usr/local/lib/python3.12/dist-packages (from matplotlib) (4.60.1)\n",
            "Requirement already satisfied: kiwisolver>=1.3.1 in /usr/local/lib/python3.12/dist-packages (from matplotlib) (1.4.9)\n",
            "Requirement already satisfied: packaging>=20.0 in /usr/local/lib/python3.12/dist-packages (from matplotlib) (25.0)\n",
            "Requirement already satisfied: pillow>=8 in /usr/local/lib/python3.12/dist-packages (from matplotlib) (11.3.0)\n",
            "Requirement already satisfied: pyparsing>=2.3.1 in /usr/local/lib/python3.12/dist-packages (from matplotlib) (3.2.5)\n",
            "Requirement already satisfied: python-dateutil>=2.7 in /usr/local/lib/python3.12/dist-packages (from matplotlib) (2.9.0.post0)\n",
            "Requirement already satisfied: pandas>=1.2 in /usr/local/lib/python3.12/dist-packages (from seaborn) (2.2.2)\n",
            "Requirement already satisfied: pytz>=2020.1 in /usr/local/lib/python3.12/dist-packages (from pandas>=1.2->seaborn) (2025.2)\n",
            "Requirement already satisfied: tzdata>=2022.7 in /usr/local/lib/python3.12/dist-packages (from pandas>=1.2->seaborn) (2025.2)\n",
            "Requirement already satisfied: six>=1.5 in /usr/local/lib/python3.12/dist-packages (from python-dateutil>=2.7->matplotlib) (1.17.0)\n"
          ]
        }
      ]
    },
    {
      "cell_type": "code",
      "source": [
        "from sklearn.metrics import confusion_matrix, ConfusionMatrixDisplay\n",
        "import matplotlib.pyplot as plt\n",
        "\n",
        "# Compute confusion matrix\n",
        "cm = confusion_matrix(y_layer, final_pred)\n",
        "\n",
        "# Display\n",
        "disp = ConfusionMatrixDisplay(\n",
        "    confusion_matrix=cm,\n",
        "    display_labels=[\"Class 0\", \"Class 1\"]\n",
        ")\n",
        "disp.plot(cmap=plt.cm.Blues)\n",
        "plt.title(\"Confusion Matrix - Final Layered Ensemble\")\n",
        "plt.show()\n"
      ],
      "metadata": {
        "colab": {
          "base_uri": "https://localhost:8080/",
          "height": 472
        },
        "id": "NdARlaUPnDb-",
        "outputId": "aaf42b95-ca99-4ff6-871c-825cf5461112"
      },
      "execution_count": 31,
      "outputs": [
        {
          "output_type": "display_data",
          "data": {
            "text/plain": [
              "<Figure size 640x480 with 2 Axes>"
            ],
            "image/png": "[encoded data removed]"
          },
          "metadata": {}
        }
      ]
    },
    {
      "cell_type": "code",
      "source": [],
      "metadata": {
        "id": "l6GIaFjCqX0q"
      },
      "execution_count": 31,
      "outputs": []
    }
  ],
  "metadata": {
    "colab": {
      "provenance": [],
      "gpuType": "T4"
    },
    "kernelspec": {
      "display_name": "Python 3",
      "name": "python3"
    },
    "language_info": {
      "name": "python"
    },
    "accelerator": "GPU"
  },
  "nbformat": 4,
  "nbformat_minor": 0
}